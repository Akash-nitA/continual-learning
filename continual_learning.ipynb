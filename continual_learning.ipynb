{
  "cells": [
    {
      "cell_type": "markdown",
      "metadata": {
        "id": "view-in-github",
        "colab_type": "text"
      },
      "source": [
        "<a href=\"https://colab.research.google.com/github/Akash-nitA/elastic-weight-consolidation/blob/main/continual_learning.ipynb\" target=\"_parent\"><img src=\"https://colab.research.google.com/assets/colab-badge.svg\" alt=\"Open In Colab\"/></a>"
      ]
    },
    {
      "cell_type": "code",
      "execution_count": 1,
      "id": "vQmzkobylxK1",
      "metadata": {
        "id": "vQmzkobylxK1"
      },
      "outputs": [],
      "source": [
        "import tensorflow as tf\n",
        "import numpy as np\n",
        "import matplotlib.pyplot as plt"
      ]
    },
    {
      "cell_type": "code",
      "execution_count": 2,
      "id": "BGdN13tRnvp7",
      "metadata": {
        "id": "BGdN13tRnvp7",
        "colab": {
          "base_uri": "https://localhost:8080/"
        },
        "outputId": "62ed29c3-7778-4e2b-a90c-78fafea66c1e"
      },
      "outputs": [
        {
          "output_type": "stream",
          "name": "stdout",
          "text": [
            "Downloading data from https://storage.googleapis.com/tensorflow/tf-keras-datasets/mnist.npz\n",
            "11493376/11490434 [==============================] - 0s 0us/step\n",
            "11501568/11490434 [==============================] - 0s 0us/step\n"
          ]
        }
      ],
      "source": [
        "(x_train,y_train),(x_test,y_test)=tf.keras.datasets.mnist.load_data()"
      ]
    },
    {
      "cell_type": "code",
      "execution_count": 3,
      "id": "B0Eyreoun-NS",
      "metadata": {
        "id": "B0Eyreoun-NS"
      },
      "outputs": [],
      "source": [
        "cond=y_train==0\n",
        "taskA={'data':x_train[cond],'label':y_train[cond]}\n",
        "cond=y_train==1\n",
        "taskB={'data':x_train[cond],'label':y_train[cond]}\n",
        "cond=y_train==2\n",
        "taskC={'data':x_train[cond],'label':y_train[cond]}"
      ]
    },
    {
      "cell_type": "code",
      "execution_count": 4,
      "id": "-XMHIPmwoVCj",
      "metadata": {
        "id": "-XMHIPmwoVCj"
      },
      "outputs": [],
      "source": [
        "def model():\n",
        "    l1=tf.keras.layers.Flatten(input_shape=(28,28))\n",
        "    l2=tf.keras.layers.Dense(10,activation='softmax')\n",
        "    mod=tf.keras.Sequential([l1,l2])\n",
        "    mod.compile(loss='SparseCategoricalCrossentropy',optimizer='adam',metrics=['accuracy'])\n",
        "    return mod\n",
        "class CustomCallback(tf.keras.callbacks.Callback):\n",
        "    def __init__(self):\n",
        "        self.accA=[]\n",
        "        self.accB=[]\n",
        "\n",
        "    \n",
        "    def on_epoch_end(self,epoch,logs=None):\n",
        "        self.accB.append(logs['accuracy'])\n",
        "        self.accA.append(logs['val_accuracy'])\n",
        "        if logs['accuracy']==1.0:\n",
        "            self.model.stop_training=1\n",
        "\n",
        "class CustomCallback2(tf.keras.callbacks.Callback):\n",
        "    def __init__(self):\n",
        "        self.accB=[]\n",
        "        self.accC=[]\n",
        "\n",
        "    \n",
        "    def on_epoch_end(self,epoch,logs=None):\n",
        "        self.accC.append(logs['accuracy'])\n",
        "        self.accB.append(logs['val_accuracy'])\n",
        "        if logs['accuracy']==1.0:\n",
        "            self.model.stop_training=1\n",
        "\n",
        "nn=model()\n",
        "        "
      ]
    },
    {
      "cell_type": "code",
      "execution_count": 5,
      "id": "tfBtVuOZx2ld",
      "metadata": {
        "colab": {
          "base_uri": "https://localhost:8080/"
        },
        "id": "tfBtVuOZx2ld",
        "outputId": "81c035e3-df00-43e5-876c-11140bf00897"
      },
      "outputs": [
        {
          "output_type": "stream",
          "name": "stdout",
          "text": [
            "Epoch 1/10\n",
            "186/186 [==============================] - 5s 4ms/step - loss: 0.1847 - accuracy: 0.9613\n",
            "Epoch 2/10\n",
            "186/186 [==============================] - 1s 4ms/step - loss: 0.0069 - accuracy: 1.0000\n",
            "Epoch 3/10\n",
            "186/186 [==============================] - 1s 4ms/step - loss: 0.0034 - accuracy: 1.0000\n",
            "Epoch 4/10\n",
            "186/186 [==============================] - 1s 4ms/step - loss: 0.0022 - accuracy: 1.0000\n",
            "Epoch 5/10\n",
            "186/186 [==============================] - 1s 5ms/step - loss: 0.0015 - accuracy: 1.0000\n",
            "Epoch 6/10\n",
            "186/186 [==============================] - 1s 4ms/step - loss: 0.0011 - accuracy: 1.0000\n",
            "Epoch 7/10\n",
            "186/186 [==============================] - 1s 4ms/step - loss: 8.7330e-04 - accuracy: 1.0000\n",
            "Epoch 8/10\n",
            "186/186 [==============================] - 1s 4ms/step - loss: 6.9947e-04 - accuracy: 1.0000\n",
            "Epoch 9/10\n",
            "186/186 [==============================] - 1s 4ms/step - loss: 5.7293e-04 - accuracy: 1.0000\n",
            "Epoch 10/10\n",
            "186/186 [==============================] - 1s 4ms/step - loss: 4.7738e-04 - accuracy: 1.0000\n"
          ]
        },
        {
          "output_type": "execute_result",
          "data": {
            "text/plain": [
              "<keras.callbacks.History at 0x7fda40060690>"
            ]
          },
          "metadata": {},
          "execution_count": 5
        }
      ],
      "source": [
        "nn.fit(taskA['data']/255.0,taskA['label'],epochs=10)"
      ]
    },
    {
      "cell_type": "code",
      "execution_count": 6,
      "id": "sAS1xERuyOru",
      "metadata": {
        "colab": {
          "base_uri": "https://localhost:8080/"
        },
        "id": "sAS1xERuyOru",
        "outputId": "8430f3c8-bb8d-48f7-9afe-3d90c974b748"
      },
      "outputs": [
        {
          "output_type": "execute_result",
          "data": {
            "text/plain": [
              "[<tf.Variable 'dense/kernel:0' shape=(784, 10) dtype=float32, numpy=\n",
              " array([[-0.07263309, -0.00357434,  0.08506728, ..., -0.08022805,\n",
              "          0.01846791,  0.00564793],\n",
              "        [-0.06393027,  0.08240461, -0.00510672, ..., -0.01628317,\n",
              "         -0.00872043,  0.02816109],\n",
              "        [ 0.07678702, -0.02042364,  0.05511581, ...,  0.03954514,\n",
              "         -0.07369772, -0.02760988],\n",
              "        ...,\n",
              "        [-0.027466  , -0.07193014, -0.04925219, ...,  0.02212696,\n",
              "         -0.02597134,  0.0367496 ],\n",
              "        [ 0.03230736,  0.06974704,  0.02959953, ..., -0.06620262,\n",
              "          0.03765327,  0.02768303],\n",
              "        [-0.00743025,  0.07197589, -0.04122144, ..., -0.05229333,\n",
              "          0.07656575, -0.0335294 ]], dtype=float32)>,\n",
              " <tf.Variable 'dense/bias:0' shape=(10,) dtype=float32, numpy=\n",
              " array([ 0.06930827, -0.072441  , -0.0681812 , -0.06684165, -0.06965578,\n",
              "        -0.07107584, -0.06925656, -0.06951419, -0.07150263, -0.06918786],\n",
              "       dtype=float32)>]"
            ]
          },
          "metadata": {},
          "execution_count": 6
        }
      ],
      "source": [
        "theta=nn.weights\n",
        "theta"
      ]
    },
    {
      "cell_type": "code",
      "execution_count": 7,
      "id": "EEeJzAXUyYjQ",
      "metadata": {
        "colab": {
          "base_uri": "https://localhost:8080/"
        },
        "id": "EEeJzAXUyYjQ",
        "outputId": "0d5ec38e-d046-45c6-e089-2c423b086554"
      },
      "outputs": [
        {
          "output_type": "execute_result",
          "data": {
            "text/plain": [
              "[array([[-0.07263309, -0.00357434,  0.08506728, ..., -0.08022805,\n",
              "          0.01846791,  0.00564793],\n",
              "        [-0.06393027,  0.08240461, -0.00510672, ..., -0.01628317,\n",
              "         -0.00872043,  0.02816109],\n",
              "        [ 0.07678702, -0.02042364,  0.05511581, ...,  0.03954514,\n",
              "         -0.07369772, -0.02760988],\n",
              "        ...,\n",
              "        [-0.027466  , -0.07193014, -0.04925219, ...,  0.02212696,\n",
              "         -0.02597134,  0.0367496 ],\n",
              "        [ 0.03230736,  0.06974704,  0.02959953, ..., -0.06620262,\n",
              "          0.03765327,  0.02768303],\n",
              "        [-0.00743025,  0.07197589, -0.04122144, ..., -0.05229333,\n",
              "          0.07656575, -0.0335294 ]], dtype=float32),\n",
              " array([ 0.06930827, -0.072441  , -0.0681812 , -0.06684165, -0.06965578,\n",
              "        -0.07107584, -0.06925656, -0.06951419, -0.07150263, -0.06918786],\n",
              "       dtype=float32)]"
            ]
          },
          "metadata": {},
          "execution_count": 7
        }
      ],
      "source": [
        "theta_star=nn.get_weights()\n",
        "theta_star"
      ]
    },
    {
      "cell_type": "code",
      "execution_count": 8,
      "id": "U9VLwtW1yhp5",
      "metadata": {
        "colab": {
          "base_uri": "https://localhost:8080/"
        },
        "id": "U9VLwtW1yhp5",
        "outputId": "2cb6082c-071b-42a5-db4e-c840bdb0ddbc"
      },
      "outputs": [
        {
          "output_type": "execute_result",
          "data": {
            "text/plain": [
              "[<tf.Tensor: shape=(784, 10), dtype=float32, numpy=\n",
              " array([[0., 0., 0., ..., 0., 0., 0.],\n",
              "        [0., 0., 0., ..., 0., 0., 0.],\n",
              "        [0., 0., 0., ..., 0., 0., 0.],\n",
              "        ...,\n",
              "        [0., 0., 0., ..., 0., 0., 0.],\n",
              "        [0., 0., 0., ..., 0., 0., 0.],\n",
              "        [0., 0., 0., ..., 0., 0., 0.]], dtype=float32)>,\n",
              " <tf.Tensor: shape=(10,), dtype=float32, numpy=\n",
              " array([80.92527   ,  0.99929583,  0.9990681 ,  0.9985791 ,  0.9990624 ,\n",
              "         0.9993902 ,  0.99900687,  0.99897623,  0.99922705,  0.99909765],\n",
              "       dtype=float32)>]"
            ]
          },
          "metadata": {},
          "execution_count": 8
        }
      ],
      "source": [
        "lam=5\n",
        "def compute_fisher(tasks):\n",
        "    fisher=[np.zeros(v.get_shape().as_list())     for v in theta]\n",
        "    count=0\n",
        "    for data in tasks:\n",
        "        count+=len(data)//20\n",
        "        for i in range(len(data)//20):\n",
        "            d=tf.reshape(data[i],(1,28,28))\n",
        "            with tf.GradientTape() as g:\n",
        "                g.watch(theta)\n",
        "                probs=nn(d)\n",
        "                y=tf.math.log(probs)\n",
        "            ders=g.gradient(y,theta)\n",
        "            for v in range(len(fisher)):\n",
        "                fisher[v]+=tf.square(ders[v])\n",
        "    for v in range(len(fisher)):\n",
        "        fisher[v]/=count\n",
        "    return fisher            \n",
        "\n",
        "fisher=compute_fisher([taskA['data']/255])\n",
        "fisher"
      ]
    },
    {
      "cell_type": "code",
      "execution_count": 9,
      "id": "_JCWdRQx2DbH",
      "metadata": {
        "id": "_JCWdRQx2DbH"
      },
      "outputs": [],
      "source": [
        "@tf.function\n",
        "def custom_loss(y_true,y_pred):\n",
        "    loss=tf.keras.losses.sparse_categorical_crossentropy(y_true,y_pred)\n",
        "    for v in range(len(theta)):\n",
        "        loss+=(lam/2)*tf.reduce_sum(tf.multiply(fisher[v],tf.square(theta[v]-theta_star[v])))\n",
        "    return loss\n",
        "nn.compile(loss=custom_loss,optimizer='adam',metrics=['accuracy'])\n"
      ]
    },
    {
      "cell_type": "code",
      "execution_count": 10,
      "id": "BAhQ_Z_B3OC3",
      "metadata": {
        "colab": {
          "base_uri": "https://localhost:8080/"
        },
        "id": "BAhQ_Z_B3OC3",
        "outputId": "f5cc4aed-b198-4f07-d6bd-d4bc9f61ac50"
      },
      "outputs": [
        {
          "output_type": "stream",
          "name": "stdout",
          "text": [
            "186/186 [==============================] - 2s 4ms/step - loss: 4.3723e-04 - accuracy: 1.0000\n"
          ]
        },
        {
          "output_type": "execute_result",
          "data": {
            "text/plain": [
              "[0.0004372271941974759, 1.0]"
            ]
          },
          "metadata": {},
          "execution_count": 10
        }
      ],
      "source": [
        "nn.evaluate(taskA['data']/255.0,taskA['label'])"
      ]
    },
    {
      "cell_type": "code",
      "source": [
        "cb=CustomCallback()\n",
        "accA=[]\n",
        "accB=[]\n",
        "accA.append(nn.evaluate(taskA['data']/255.0,taskA['label'])[1])\n",
        "accB.append(nn.evaluate(taskB['data']/255.0,taskB['label'])[1])\n",
        "nn.fit(taskB['data']/255.0,taskB['label'],epochs=10,validation_data=(taskA['data']/255.0,taskA['label']),callbacks=[cb])\n",
        "accA+=cb.accA\n",
        "accB+=cb.accB\n",
        "plt.plot(accA)\n",
        "plt.plot(accB)\n",
        "plt.show()"
      ],
      "metadata": {
        "colab": {
          "base_uri": "https://localhost:8080/",
          "height": 671
        },
        "id": "U1lAAAW5of_a",
        "outputId": "81bdc237-8469-445b-8708-5901cdd0fb66"
      },
      "id": "U1lAAAW5of_a",
      "execution_count": 11,
      "outputs": [
        {
          "output_type": "stream",
          "name": "stdout",
          "text": [
            "186/186 [==============================] - 1s 4ms/step - loss: 4.3723e-04 - accuracy: 1.0000\n",
            "211/211 [==============================] - 1s 3ms/step - loss: 6.2011 - accuracy: 0.0000e+00\n",
            "Epoch 1/10\n",
            "211/211 [==============================] - 2s 4ms/step - loss: 2.4188 - accuracy: 0.4132 - val_loss: 0.6881 - val_accuracy: 1.0000\n",
            "Epoch 2/10\n",
            "211/211 [==============================] - 1s 6ms/step - loss: 0.9142 - accuracy: 0.9131 - val_loss: 0.4499 - val_accuracy: 1.0000\n",
            "Epoch 3/10\n",
            "211/211 [==============================] - 1s 6ms/step - loss: 0.6405 - accuracy: 0.9494 - val_loss: 0.3511 - val_accuracy: 1.0000\n",
            "Epoch 4/10\n",
            "211/211 [==============================] - 1s 4ms/step - loss: 0.5134 - accuracy: 0.9594 - val_loss: 0.3007 - val_accuracy: 1.0000\n",
            "Epoch 5/10\n",
            "211/211 [==============================] - 1s 4ms/step - loss: 0.4400 - accuracy: 0.9668 - val_loss: 0.2617 - val_accuracy: 1.0000\n",
            "Epoch 6/10\n",
            "211/211 [==============================] - 1s 6ms/step - loss: 0.3918 - accuracy: 0.9703 - val_loss: 0.2360 - val_accuracy: 0.9998\n",
            "Epoch 7/10\n",
            "211/211 [==============================] - 1s 6ms/step - loss: 0.3579 - accuracy: 0.9723 - val_loss: 0.2192 - val_accuracy: 0.9998\n",
            "Epoch 8/10\n",
            "211/211 [==============================] - 1s 6ms/step - loss: 0.3324 - accuracy: 0.9736 - val_loss: 0.2051 - val_accuracy: 0.9998\n",
            "Epoch 9/10\n",
            "211/211 [==============================] - 1s 4ms/step - loss: 0.3125 - accuracy: 0.9740 - val_loss: 0.1949 - val_accuracy: 0.9998\n",
            "Epoch 10/10\n",
            "211/211 [==============================] - 1s 6ms/step - loss: 0.2965 - accuracy: 0.9752 - val_loss: 0.1857 - val_accuracy: 0.9998\n"
          ]
        },
        {
          "output_type": "display_data",
          "data": {
            "image/png": "[encoded data removed]",
            "text/plain": [
              "<Figure size 432x288 with 1 Axes>"
            ]
          },
          "metadata": {
            "needs_background": "light"
          }
        }
      ]
    },
    {
      "cell_type": "code",
      "source": [
        "theta=nn.weights\n",
        "theta_star=nn.get_weights()\n",
        "theta"
      ],
      "metadata": {
        "colab": {
          "base_uri": "https://localhost:8080/"
        },
        "id": "EYj4WPCGlvfP",
        "outputId": "35ab95b9-52b1-4939-d09b-825c252eb208"
      },
      "id": "EYj4WPCGlvfP",
      "execution_count": 12,
      "outputs": [
        {
          "output_type": "execute_result",
          "data": {
            "text/plain": [
              "[<tf.Variable 'dense/kernel:0' shape=(784, 10) dtype=float32, numpy=\n",
              " array([[-0.07263309, -0.00357434,  0.08506728, ..., -0.08022805,\n",
              "          0.01846791,  0.00564793],\n",
              "        [-0.06393027,  0.08240461, -0.00510672, ..., -0.01628317,\n",
              "         -0.00872043,  0.02816109],\n",
              "        [ 0.07678702, -0.02042364,  0.05511581, ...,  0.03954514,\n",
              "         -0.07369772, -0.02760988],\n",
              "        ...,\n",
              "        [-0.027466  , -0.07193014, -0.04925219, ...,  0.02212696,\n",
              "         -0.02597134,  0.0367496 ],\n",
              "        [ 0.03230736,  0.06974704,  0.02959953, ..., -0.06620262,\n",
              "          0.03765327,  0.02768303],\n",
              "        [-0.00743025,  0.07197589, -0.04122144, ..., -0.05229333,\n",
              "          0.07656575, -0.0335294 ]], dtype=float32)>,\n",
              " <tf.Variable 'dense/bias:0' shape=(10,) dtype=float32, numpy=\n",
              " array([ 0.06916437, -0.05985205, -0.06812036, -0.06692787, -0.06974202,\n",
              "        -0.07099129, -0.06937626, -0.06952462, -0.07143225, -0.06921758],\n",
              "       dtype=float32)>]"
            ]
          },
          "metadata": {},
          "execution_count": 12
        }
      ]
    },
    {
      "cell_type": "code",
      "source": [
        "fisher=compute_fisher([taskB['data']/255.0,taskA['data']/255.0])\n",
        "@tf.function\n",
        "def custom_loss(y_true,y_pred):\n",
        "    loss=tf.keras.losses.sparse_categorical_crossentropy(y_true,y_pred)\n",
        "    for v in range(len(theta)):\n",
        "        loss+=(lam/2)*tf.reduce_sum(tf.multiply(fisher[v],tf.square(theta[v]-theta_star[v])))\n",
        "    return loss\n",
        "nn.compile(loss=custom_loss,optimizer='adam',metrics=['accuracy'])\n"
      ],
      "metadata": {
        "id": "WFUZJtRypK_4"
      },
      "id": "WFUZJtRypK_4",
      "execution_count": 13,
      "outputs": []
    },
    {
      "cell_type": "code",
      "source": [
        "fisher"
      ],
      "metadata": {
        "colab": {
          "base_uri": "https://localhost:8080/"
        },
        "id": "RnsGCb_2m2RX",
        "outputId": "619f0e83-e282-4d2d-950a-18662aa77ce2"
      },
      "id": "RnsGCb_2m2RX",
      "execution_count": 14,
      "outputs": [
        {
          "output_type": "execute_result",
          "data": {
            "text/plain": [
              "[<tf.Tensor: shape=(784, 10), dtype=float32, numpy=\n",
              " array([[0., 0., 0., ..., 0., 0., 0.],\n",
              "        [0., 0., 0., ..., 0., 0., 0.],\n",
              "        [0., 0., 0., ..., 0., 0., 0.],\n",
              "        ...,\n",
              "        [0., 0., 0., ..., 0., 0., 0.],\n",
              "        [0., 0., 0., ..., 0., 0., 0.],\n",
              "        [0., 0., 0., ..., 0., 0., 0.]], dtype=float32)>,\n",
              " <tf.Tensor: shape=(10,), dtype=float32, numpy=\n",
              " array([38.7496    , 39.153954  ,  0.9969738 ,  0.99567556,  0.99599993,\n",
              "         0.9972551 ,  0.9954089 ,  0.9962328 ,  0.9973346 ,  0.9962158 ],\n",
              "       dtype=float32)>]"
            ]
          },
          "metadata": {},
          "execution_count": 14
        }
      ]
    },
    {
      "cell_type": "code",
      "source": [
        "theta_star"
      ],
      "metadata": {
        "colab": {
          "base_uri": "https://localhost:8080/"
        },
        "id": "50VV6jWAl9HM",
        "outputId": "12df5b00-7e3e-4841-a736-c5e25405b5df"
      },
      "id": "50VV6jWAl9HM",
      "execution_count": 15,
      "outputs": [
        {
          "output_type": "execute_result",
          "data": {
            "text/plain": [
              "[array([[-0.07263309, -0.00357434,  0.08506728, ..., -0.08022805,\n",
              "          0.01846791,  0.00564793],\n",
              "        [-0.06393027,  0.08240461, -0.00510672, ..., -0.01628317,\n",
              "         -0.00872043,  0.02816109],\n",
              "        [ 0.07678702, -0.02042364,  0.05511581, ...,  0.03954514,\n",
              "         -0.07369772, -0.02760988],\n",
              "        ...,\n",
              "        [-0.027466  , -0.07193014, -0.04925219, ...,  0.02212696,\n",
              "         -0.02597134,  0.0367496 ],\n",
              "        [ 0.03230736,  0.06974704,  0.02959953, ..., -0.06620262,\n",
              "          0.03765327,  0.02768303],\n",
              "        [-0.00743025,  0.07197589, -0.04122144, ..., -0.05229333,\n",
              "          0.07656575, -0.0335294 ]], dtype=float32),\n",
              " array([ 0.06916437, -0.05985205, -0.06812036, -0.06692787, -0.06974202,\n",
              "        -0.07099129, -0.06937626, -0.06952462, -0.07143225, -0.06921758],\n",
              "       dtype=float32)]"
            ]
          },
          "metadata": {},
          "execution_count": 15
        }
      ]
    },
    {
      "cell_type": "code",
      "execution_count": 16,
      "id": "8ttmcKjV3X5G",
      "metadata": {
        "colab": {
          "base_uri": "https://localhost:8080/",
          "height": 671
        },
        "id": "8ttmcKjV3X5G",
        "outputId": "55cd79ee-f67b-49a5-b99e-67a191c85173"
      },
      "outputs": [
        {
          "output_type": "stream",
          "name": "stdout",
          "text": [
            "211/211 [==============================] - 1s 2ms/step - loss: 0.1037 - accuracy: 0.9757\n",
            "187/187 [==============================] - 0s 2ms/step - loss: 11.5557 - accuracy: 0.0000e+00\n",
            "Epoch 1/10\n",
            "187/187 [==============================] - 1s 5ms/step - loss: 4.3277 - accuracy: 0.3724 - val_loss: 1.7648 - val_accuracy: 0.9795\n",
            "Epoch 2/10\n",
            "187/187 [==============================] - 1s 6ms/step - loss: 2.0275 - accuracy: 0.8192 - val_loss: 1.6031 - val_accuracy: 0.9782\n",
            "Epoch 3/10\n",
            "187/187 [==============================] - 1s 7ms/step - loss: 1.8950 - accuracy: 0.8266 - val_loss: 1.5438 - val_accuracy: 0.9779\n",
            "Epoch 4/10\n",
            "187/187 [==============================] - 1s 6ms/step - loss: 1.8392 - accuracy: 0.8259 - val_loss: 1.5271 - val_accuracy: 0.9775\n",
            "Epoch 5/10\n",
            "187/187 [==============================] - 1s 5ms/step - loss: 1.8079 - accuracy: 0.8270 - val_loss: 1.5084 - val_accuracy: 0.9775\n",
            "Epoch 6/10\n",
            "187/187 [==============================] - 1s 6ms/step - loss: 1.7877 - accuracy: 0.8261 - val_loss: 1.4822 - val_accuracy: 0.9770\n",
            "Epoch 7/10\n",
            "187/187 [==============================] - 1s 5ms/step - loss: 1.7740 - accuracy: 0.8229 - val_loss: 1.4592 - val_accuracy: 0.9772\n",
            "Epoch 8/10\n",
            "187/187 [==============================] - 1s 5ms/step - loss: 1.7637 - accuracy: 0.8214 - val_loss: 1.4457 - val_accuracy: 0.9773\n",
            "Epoch 9/10\n",
            "187/187 [==============================] - 1s 6ms/step - loss: 1.7556 - accuracy: 0.8172 - val_loss: 1.4742 - val_accuracy: 0.9767\n",
            "Epoch 10/10\n",
            "187/187 [==============================] - 1s 5ms/step - loss: 1.7491 - accuracy: 0.8204 - val_loss: 1.4492 - val_accuracy: 0.9770\n"
          ]
        },
        {
          "output_type": "display_data",
          "data": {
            "image/png": "[encoded data removed]",
            "text/plain": [
              "<Figure size 432x288 with 1 Axes>"
            ]
          },
          "metadata": {
            "needs_background": "light"
          }
        }
      ],
      "source": [
        "cb2=CustomCallback2()\n",
        "accB=[]\n",
        "accC=[]\n",
        "accB.append(nn.evaluate(taskB['data']/255.0,taskB['label'])[1])\n",
        "accC.append(nn.evaluate(taskC['data']/255.0,taskC['label'])[1])\n",
        "nn.fit(taskC['data']/255.0,taskC['label'],epochs=10,validation_data=(taskB['data']/255.0,taskB['label']),callbacks=[cb2])\n",
        "accB+=cb2.accB\n",
        "accC+=cb2.accC\n",
        "plt.plot(accC)\n",
        "plt.plot(accB)\n",
        "plt.show()"
      ]
    },
    {
      "cell_type": "code",
      "source": [
        "nn.evaluate(taskA['data']/255,taskA['label'])"
      ],
      "metadata": {
        "colab": {
          "base_uri": "https://localhost:8080/"
        },
        "id": "WEeMX7QTmaS0",
        "outputId": "30e4aa6c-49eb-44f2-dedb-29175db20d31"
      },
      "id": "WEeMX7QTmaS0",
      "execution_count": 17,
      "outputs": [
        {
          "output_type": "stream",
          "name": "stdout",
          "text": [
            "186/186 [==============================] - 0s 2ms/step - loss: 1.4179 - accuracy: 0.9759\n"
          ]
        },
        {
          "output_type": "execute_result",
          "data": {
            "text/plain": [
              "[1.4179279804229736, 0.9758568406105042]"
            ]
          },
          "metadata": {},
          "execution_count": 17
        }
      ]
    }
  ],
  "metadata": {
    "colab": {
      "name": "continual_learning.ipynb",
      "provenance": [],
      "collapsed_sections": [],
      "include_colab_link": true
    },
    "kernelspec": {
      "display_name": "Python 3 (ipykernel)",
      "language": "python",
      "name": "python3"
    },
    "language_info": {
      "codemirror_mode": {
        "name": "ipython",
        "version": 3
      },
      "file_extension": ".py",
      "mimetype": "text/x-python",
      "name": "python",
      "nbconvert_exporter": "python",
      "pygments_lexer": "ipython3",
      "version": "3.9.7"
    },
    "accelerator": "GPU"
  },
  "nbformat": 4,
  "nbformat_minor": 5
}